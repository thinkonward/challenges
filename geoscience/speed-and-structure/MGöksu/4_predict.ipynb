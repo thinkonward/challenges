{
 "cells": [
  {
   "cell_type": "markdown",
   "id": "59a8171c",
   "metadata": {},
   "source": [
    "NOTE: This notebook assumes that you have downloaded the competition test data and saved it in `./data/speed-and-structure-test-data` directory. \n"
   ]
  },
  {
   "cell_type": "markdown",
   "id": "b0adee9e",
   "metadata": {},
   "source": [
    "# Speed and Structure Competition\n",
    "\n",
    "## Part 4: Prediction on Test Data\n",
    "\n",
    "---"
   ]
  },
  {
   "cell_type": "code",
   "execution_count": null,
   "id": "79f69a09",
   "metadata": {},
   "outputs": [],
   "source": [
    "import os\n",
    "from glob import glob\n",
    "\n",
    "import torch\n",
    "import torch.nn as nn\n",
    "import numpy as np\n",
    "from tqdm.auto import tqdm\n",
    "from scipy.interpolate import interp1d\n",
    "\n",
    "from config import cfg\n",
    "from model import Net, EnsembleModel"
   ]
  },
  {
   "cell_type": "markdown",
   "id": "e9afdc79",
   "metadata": {},
   "source": [
    "Make sure you have the starred paths correct as the glob library is used to find the files e.g. `\"./data/speed-and-structure-test-data/*\"`. "
   ]
  },
  {
   "cell_type": "code",
   "execution_count": null,
   "id": "180c1de8",
   "metadata": {},
   "outputs": [],
   "source": [
    "TEST_DATASET = \"./data/speed-and-structure-test-data/*\" \n",
    "OUTPUT_DIR = \"./\"\n",
    "MODEL_DIR = \"./model_checkpoints\"\n",
    "MODEL_PATHS = [ # convention is best_model_{seed}_{invidual MAPE score on the leaderboard}.pt\n",
    "    f\"{MODEL_DIR}/best_model_43_023536.pt\",\n",
    "    f\"{MODEL_DIR}/best_model_44_023772.pt\",\n",
    "    f\"{MODEL_DIR}/best_model_45_023476.pt\",\n",
    "]"
   ]
  },
  {
   "cell_type": "code",
   "execution_count": null,
   "id": "75c01e78",
   "metadata": {},
   "outputs": [],
   "source": [
    "models = []\n",
    "for model_path in MODEL_PATHS:\n",
    "    _model = Net(backbone=cfg.backbone, \n",
    "                 pretrained=False, \n",
    "                 fuse_ch=cfg.fuse_ch,\n",
    "                 one_channel=cfg.one_channel,\n",
    "                 norm_layer=cfg.norm_layer,\n",
    "                 dropout=cfg.dropout,\n",
    "                 y_min_max_norm=cfg.y_min_max_norm,\n",
    "                 horizontal_tta=cfg.horizontal_tta\n",
    "                 ).to(cfg.device)\n",
    "    # Load model weights\n",
    "    _model.load_state_dict(torch.load(model_path, \n",
    "                                    map_location=cfg.device\n",
    "                                    ))\n",
    "    _model.eval()\n",
    "    models.append(_model)\n",
    "\n",
    "model = EnsembleModel(models, ensemble_method=\"mean\") # theoretically median would be better but mean had a better leaderboard score"
   ]
  },
  {
   "cell_type": "code",
   "execution_count": null,
   "id": "d4491c95",
   "metadata": {},
   "outputs": [],
   "source": [
    "test_paths = glob(TEST_DATASET)\n",
    "print(\"Number of test samples:\", len(test_paths))"
   ]
  },
  {
   "cell_type": "code",
   "execution_count": null,
   "id": "9f93d9f7",
   "metadata": {},
   "outputs": [],
   "source": [
    "source_coordinates = [1, 75, 150, 225, 300]\n",
    "submission = dict({})\n",
    "for test_path in tqdm(test_paths):\n",
    "\n",
    "    sample_id = test_path.split(\"/\")[-1]\n",
    "\n",
    "    # Load input data\n",
    "    rec_data = []\n",
    "    for i in source_coordinates:\n",
    "        rec = np.load(os.path.join(test_path, f\"receiver_data_src_{i}.npy\"))\n",
    "\n",
    "        if cfg.target_len is not None:\n",
    "            original_rows = rec.shape[0]\n",
    "            target_rows = cfg.target_len\n",
    "            x_original = np.linspace(0, 1, original_rows)\n",
    "            x_new = np.linspace(0, 1, target_rows)\n",
    "\n",
    "            # Interpolate along axis 0 (rows), keeping columns unchanged\n",
    "            interpolator = interp1d(x_original, rec, axis=0, kind='linear')\n",
    "            rec = interpolator(x_new).astype(np.float32)\n",
    "            rec = np.pad(rec, ((0, 0), (0, 32 - rec.shape[1])), mode='constant', constant_values=0)\n",
    "        \n",
    "        rec_data.append(rec)\n",
    "\n",
    "    # (B, 1, T, 32*5) or (B, 5, T, 32)\n",
    "    if cfg.one_channel:\n",
    "        x = np.expand_dims(np.concatenate(rec_data, axis=1), 0)\n",
    "    else:\n",
    "        x = np.stack(rec_data, axis=0)\n",
    "\n",
    "    if cfg.x_norm:\n",
    "        x = (x - cfg.x_mean) / cfg.x_std\n",
    "\n",
    "    # Inference\n",
    "    x = torch.from_numpy(x).to(cfg.device)\n",
    "    x = x.unsqueeze(0)\n",
    "    with torch.no_grad():\n",
    "        y_pred = model(x)\n",
    "\n",
    "    if cfg.y_norm:\n",
    "        y_pred = y_pred * cfg.y_std + cfg.y_median\n",
    "    \n",
    "    if cfg.y_min_max_norm:\n",
    "        y_pred = y_pred * (cfg.y_max - cfg.y_min) + cfg.y_min\n",
    "\n",
    "    prediction = y_pred[0].cpu().numpy().astype(np.float64)\n",
    "\n",
    "    # clip prediction \n",
    "    prediction = np.clip(prediction, cfg.y_min, cfg.y_max)\n",
    "\n",
    "    submission.update(dict({sample_id: prediction}))"
   ]
  },
  {
   "cell_type": "code",
   "execution_count": null,
   "id": "974560e7",
   "metadata": {},
   "outputs": [],
   "source": [
    "np.savez(f\"{OUTPUT_DIR}/speed-and-structure-submission.npz\", **submission)"
   ]
  }
 ],
 "metadata": {
  "kernelspec": {
   "display_name": "conda_pytorch_p310",
   "language": "python",
   "name": "conda_pytorch_p310"
  },
  "language_info": {
   "codemirror_mode": {
    "name": "ipython",
    "version": 3
   },
   "file_extension": ".py",
   "mimetype": "text/x-python",
   "name": "python",
   "nbconvert_exporter": "python",
   "pygments_lexer": "ipython3",
   "version": "3.10.18"
  }
 },
 "nbformat": 4,
 "nbformat_minor": 5
}
